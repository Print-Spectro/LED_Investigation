{
 "cells": [
  {
   "cell_type": "markdown",
   "metadata": {},
   "source": [
    "# Outline Python script for the Year 3 Physical Chemistry Lab Automated Data Acquisition\n",
    "### Version 1.1 - Updated 10 October 2020\n",
    "Nick Brooks"
   ]
  },
  {
   "cell_type": "markdown",
   "metadata": {},
   "source": [
    "This notebook provides an outline for developing a program that will allow you to investigate the conductivity of simple electronic components. It communicate with an Arduino that is configured to provide as a voltage source, as well as read the potential across the test component and current flowing through it. A full description of the experiment and the way that you communicate with the Arduino is available on Blackboard. \n",
    "Before you begin, you will need to install a module that lets Python communicate through a serial connection with other pieces of equipment. You only need to do this once to get everything set up.\n",
    "\n",
    "Before you start, you need to install a Python module that allows you to work with serial connections to your computer, you only need to do this once and it will stay installed in your Python distribution.\n",
    "\n",
    "Run the cell below and wait for the module to download and install."
   ]
  },
  {
   "cell_type": "code",
   "execution_count": 1,
   "metadata": {},
   "outputs": [
    {
     "name": "stdout",
     "output_type": "stream",
     "text": [
      "Collecting package metadata (current_repodata.json): ...working... done\n",
      "Solving environment: ...working... done\n",
      "\n",
      "## Package Plan ##\n",
      "Note: you may need to restart the kernel to use updated packages.\n",
      "\n",
      "  environment location: C:\\Users\\franc\\anaconda3\n",
      "\n",
      "  added / updated specs:\n",
      "    - pyserial\n",
      "\n",
      "\n",
      "The following packages will be downloaded:\n",
      "\n",
      "    package                    |            build\n",
      "    ---------------------------|-----------------\n",
      "    conda-4.10.3               |   py38haa95532_0         2.9 MB\n",
      "    pyserial-3.5               |   py38haa95532_0         163 KB\n",
      "\n",
      "    ------------------------------------------------------------\n",
      "                                           Total:         3.0 MB\n",
      "\n",
      "The following NEW packages will be INSTALLED:\n",
      "\n",
      "  pyserial           pkgs/main/win-64::pyserial-3.5-py38haa95532_0\n",
      "\n",
      "The following packages will be UPDATED:\n",
      "\n",
      "  conda                                        4.8.3-py38_0 --> 4.10.3-py38haa95532_0\n",
      "\n",
      "\n",
      "\n",
      "Downloading and Extracting Packages\n",
      "\n",
      "conda-4.10.3         | 2.9 MB    |            |   0% \n",
      "conda-4.10.3         | 2.9 MB    | 7          |   8% \n",
      "conda-4.10.3         | 2.9 MB    | ###3       |  33% \n",
      "conda-4.10.3         | 2.9 MB    | ######6    |  67% \n",
      "conda-4.10.3         | 2.9 MB    | ########## | 100% \n",
      "\n",
      "pyserial-3.5         | 163 KB    |            |   0% \n",
      "pyserial-3.5         | 163 KB    | ########## | 100% \n",
      "Preparing transaction: ...working... done\n",
      "Verifying transaction: ...working... done\n",
      "Executing transaction: ...working... done\n"
     ]
    }
   ],
   "source": [
    "conda install pyserial"
   ]
  },
  {
   "cell_type": "markdown",
   "metadata": {},
   "source": [
    "If you receive a 'syntax error' when running to command above, please run the same command in a terminal window. If you are using Windows, you can launch a terminal window by typing CMD into the main Windows search bar (this is usually towards the left of the main toolbar at the bottom of your screen) and running the CMD program. If you are using MacOS or Linux, you can open the 'Terminal' program from your application launcher."
   ]
  },
  {
   "cell_type": "markdown",
   "metadata": {},
   "source": [
    "Next you need to point the program that you'll be writing towards the libraries that it will need to run. The libraries that you need are the 'serial' library that contains the commands for serial communicaiton, some parts of serial tools so you can find the name of the port that your instrument is connected to, 'time' for allowing your program to wiat and the standard tools that you have used in the past for data manipulation, curve plotting and fitting.<br>\n",
    "Run the cell below to import the appropriate libraries."
   ]
  },
  {
   "cell_type": "code",
   "execution_count": 1,
   "metadata": {},
   "outputs": [
    {
     "name": "stdout",
     "output_type": "stream",
     "text": [
      "Populating the interactive namespace from numpy and matplotlib\n"
     ]
    }
   ],
   "source": [
    "import serial\n",
    "import serial.tools.list_ports\n",
    "import time\n",
    "%pylab inline\n",
    "from scipy.optimize import curve_fit"
   ]
  },
  {
   "cell_type": "markdown",
   "metadata": {},
   "source": [
    "So that you can tell your program where to send and receive information, you need to find the name of the port that you have connected your instrument to. The port is a virtual serial port that runs over the USB connection (effectively the serial commands are send over USB and then decoded in the instrument).<br>\n",
    "Start by making sure that your Arduino is <b>disconnected</b> from your computer, run the cell below and make a note of the port names that show up (there may be no ports shown at this point). Next <b>connect</b> your instrument to a USB port on your computer, wait for a moment to check that any required drivers are installed (on Windows you may see a message saying that your device is being prepared and then one to say that it is ready for use), and then run the cell below again to get an updated list of the available serial ports. The name of the extra port that shows up with your Arduino connected is the one that you should use in the subsequent code.\n",
    "Note that the port naming scheme is different depending on your opperating systems:<br>\n",
    "<b>Windows.</b> If you are using Windows, your Arduino will show up on a port named 'COM' and then a number (e.g. COM7).<br>\n",
    "<b>MacOS or Linux.</b> If you are using MacOS or Linux, your Arduino port will be named similar to '/dev/cu.usbmodem' and then a number."
   ]
  },
  {
   "cell_type": "code",
   "execution_count": 36,
   "metadata": {},
   "outputs": [
    {
     "name": "stdout",
     "output_type": "stream",
     "text": [
      "COM1\n",
      "COM4\n",
      "2 ports found\n"
     ]
    }
   ],
   "source": [
    "ports = serial.tools.list_ports.comports()\n",
    "for p in ports:\n",
    "    print(p.device)\n",
    "print (len(ports), 'ports found')"
   ]
  },
  {
   "cell_type": "markdown",
   "metadata": {},
   "source": [
    "To open the serial connection between your computer and Arduino, you need to specify the parameters that the Arduino uses to communicate. You will need to specify the port name, a baud rate (the number of bits per second) of 9600, and a timeout time of 2 seconds.<br>\n",
    "You can use the following code outline to open a serial conection that we're going to name 'ser':<br>\n",
    "```python\n",
    "ser = serial.Serial('port name', baudrate=x, timeout=x)```\n",
    "\n",
    "For example (note that you will need to change the port name to match the one found above):\n",
    "\n",
    "```python\n",
    "ser = serial.Serial('/dev/cu.usbmodem144301', baudrate=9600, timeout=2)```"
   ]
  },
  {
   "cell_type": "code",
   "execution_count": 5,
   "metadata": {},
   "outputs": [],
   "source": [
    "class serial_intf():\n",
    "    def __init__(self, **kwargs) -> None:\n",
    "        \n",
    "        \n",
    "\n",
    "\n",
    "ser =serial.Serial(\"COM4\", baudrate = 9600, timeout = 5)\n"
   ]
  },
  {
   "cell_type": "markdown",
   "metadata": {},
   "source": [
    "When the serial connection is opened, the Arduino will reset and it will send three lines of information back to the computer. You can read each line into a variable called ```b``` using the code:\n",
    "```python\n",
    "b = ser.readline()```\n",
    "\n",
    "The text is read in as a list of 8-bit characters which you can print out directly, but it may be useful to convert it to a string. You can use the following code to covert the chracter list to a string named ```readstring```:\n",
    "\n",
    "```python\n",
    "readstring = b.decode(\"utf-8\")```\n",
    "\n",
    "Finally, you can print each line as it is read using:\n",
    "\n",
    "```python\n",
    "print(readstring)```\n",
    "\n",
    "You may find it useful to run these commands in a ```for``` loop that repeats 3 times rather than just repeating then 3 times explicitly."
   ]
  },
  {
   "cell_type": "code",
   "execution_count": 11,
   "metadata": {},
   "outputs": [
    {
     "name": "stdout",
     "output_type": "stream",
     "text": [
      "Imperial College London - Department of Chemistry\r\n",
      "\n",
      "Year 3 Physical Chemistry Lab\r\n",
      "\n",
      "Version NB1.0 - 8-9-20\r\n",
      "\n"
     ]
    }
   ],
   "source": [
    "for i in range(3):\n",
    "    b = ser.readline()\n",
    "    readstring = b.decode(\"utf-8\")\n",
    "    print(readstring)"
   ]
  },
  {
   "cell_type": "markdown",
   "metadata": {},
   "source": [
    "Next, you should try to send some commands to the Arduino and then read back the response.<br>\n",
    "You can send a command using the code: ```ser.write(bytestowrite)```, but remember from above that the information is sent and received as a list of 8-bit characters which is subtally different from a python string. To get a command ready to send, you need to define a string to send, for example using:\n",
    "```python\n",
    "writestring = '<S0>'```\n",
    "Then this string needs to be encoded as a list of 8-bit ASCII characters using:\n",
    "```python\n",
    "bytestowrite = writestring.encode()```\n",
    "After the command has been sent, the Arduino will receive it, process is and respond with one line which you should read as you did in the cell above (but remember there will only be one line now rather than three)."
   ]
  },
  {
   "cell_type": "code",
   "execution_count": 16,
   "metadata": {
    "scrolled": true
   },
   "outputs": [
    {
     "name": "stdout",
     "output_type": "stream",
     "text": [
      "S 0.000\r\n",
      "\n"
     ]
    }
   ],
   "source": [
    "test_string = \"<S0>\" \n",
    "thingtowrite = test_string.encode()\n",
    "ser.write(thingtowrite)\n",
    "c = ser.readline().decode(\"utf-8\")\n",
    "print(c)"
   ]
  },
  {
   "cell_type": "markdown",
   "metadata": {},
   "source": [
    "Now try to set up a loop that sets the applied voltage in small steps between 0 and 5 volts and at each step reads the current running through the LED, and the voltage across it. You will need to store each reading in a list so you can plot them later. You should think about if it is appropriate to insert short delays in the program (for instance to allow the set voltage to stabilise before reading your data), you can do this using the command:\n",
    "```python\n",
    "time.sleep(0.1)```\n",
    "Where the number in brackets is the number of seconds to wait (100 ms in the example above)."
   ]
  },
  {
   "cell_type": "code",
   "execution_count": 58,
   "metadata": {},
   "outputs": [
    {
     "name": "stdout",
     "output_type": "stream",
     "text": [
      "<S0.0>\n",
      "<S0.05>\n",
      "<S0.1>\n",
      "<S0.15000000000000002>\n",
      "<S0.2>\n",
      "<S0.25>\n",
      "<S0.30000000000000004>\n",
      "<S0.35000000000000003>\n",
      "<S0.4>\n",
      "<S0.45>\n",
      "<S0.5>\n",
      "<S0.55>\n",
      "<S0.6000000000000001>\n",
      "<S0.65>\n",
      "<S0.7000000000000001>\n",
      "<S0.75>\n",
      "<S0.8>\n",
      "<S0.8500000000000001>\n",
      "<S0.9>\n",
      "<S0.9500000000000001>\n",
      "<S1.0>\n",
      "<S1.05>\n",
      "<S1.1>\n",
      "<S1.1500000000000001>\n",
      "<S1.2000000000000002>\n",
      "<S1.25>\n",
      "<S1.3>\n",
      "<S1.35>\n",
      "<S1.4000000000000001>\n",
      "<S1.4500000000000002>\n",
      "<S1.5>\n",
      "<S1.55>\n",
      "<S1.6>\n",
      "<S1.6500000000000001>\n",
      "<S1.7000000000000002>\n",
      "<S1.75>\n",
      "<S1.8>\n",
      "<S1.85>\n",
      "<S1.9000000000000001>\n",
      "<S1.9500000000000002>\n",
      "<S2.0>\n",
      "<S2.0500000000000003>\n",
      "<S2.1>\n",
      "<S2.15>\n",
      "<S2.2>\n",
      "<S2.25>\n",
      "<S2.3000000000000003>\n",
      "<S2.35>\n",
      "<S2.4000000000000004>\n",
      "<S2.45>\n",
      "<S2.5>\n",
      "<S2.5500000000000003>\n",
      "<S2.6>\n",
      "<S2.6500000000000004>\n",
      "<S2.7>\n",
      "<S2.75>\n",
      "<S2.8000000000000003>\n",
      "<S2.85>\n",
      "<S2.9000000000000004>\n",
      "<S2.95>\n",
      "<S3.0>\n",
      "<S3.0500000000000003>\n",
      "<S3.1>\n",
      "<S3.1500000000000004>\n",
      "<S3.2>\n",
      "<S3.25>\n",
      "<S3.3000000000000003>\n",
      "<S3.35>\n",
      "<S3.4000000000000004>\n",
      "<S3.45>\n",
      "<S3.5>\n",
      "<S3.5500000000000003>\n",
      "<S3.6>\n",
      "<S3.6500000000000004>\n",
      "<S3.7>\n",
      "<S3.75>\n",
      "<S3.8000000000000003>\n",
      "<S3.85>\n",
      "<S3.9000000000000004>\n",
      "<S3.95>\n",
      "<S4.0>\n",
      "<S4.05>\n",
      "<S4.1000000000000005>\n",
      "<S4.15>\n",
      "<S4.2>\n",
      "<S4.25>\n",
      "<S4.3>\n",
      "<S4.3500000000000005>\n",
      "<S4.4>\n",
      "<S4.45>\n",
      "<S4.5>\n",
      "<S4.55>\n",
      "<S4.6000000000000005>\n",
      "<S4.65>\n",
      "<S4.7>\n",
      "<S4.75>\n",
      "<S4.800000000000001>\n",
      "<S4.8500000000000005>\n",
      "<S4.9>\n",
      "<S4.95>\n",
      "<S5.0>\n"
     ]
    }
   ],
   "source": [
    "def timetest():\n",
    "    \"\"\"Function used for optimising time to wait for each measurement simply by fixing the input voltage and varying the time\n",
    "    waited for each measurement.\n",
    "    \"\"\"\n",
    "    ser.write(\"<S3.00>\".encode())\n",
    "    ser.readline()\n",
    "    with open(\"timetest\", \"w\") as output:\n",
    "        output.write(\"time voltage current\\n\")\n",
    "        for i in list(linspace(1,0,51)/10):\n",
    "            ser.write(\"<V2>\".encode())\n",
    "            ser.write(\"<I1>\".encode())\n",
    "            V = ser.readline().decode(\"utf-8\").split()[1]\n",
    "            I = ser.readline().decode(\"utf-8\").split()[1]\n",
    "            #print(I)\n",
    "            output.write(str(i) + \" \"+str(V) +\" \" +str(I)+\"\\n\" )\n",
    "            time.sleep(i)\n",
    "\n",
    "class dummyserial:\n",
    "    def __init__(self) -> None:\n",
    "        self.a  = 0\n",
    "    def readline(self):\n",
    "        return \"S 1.00\".encode()\n",
    "    def write(self, b):\n",
    "        self.a = b.decode(\"utf-8\")\n",
    "\n",
    "\n",
    "import datetime\n",
    "def collect(colour, ser):\n",
    "    list_y=[]\n",
    "    list_x=[]\n",
    "    with open(str(colour)+\".txt\", \"w\") as text_file:\n",
    "        \n",
    "        text_file.write(\"V_range: 0-5V, V_Step: 0.05V, Delay: 50 ms\\n\"+str(datetime.datetime.now())[:10]+ \"\\n\"+'voltage'+' '+'current'+'\\n')\n",
    "        for i in list(linspace(0,5,101)):\n",
    "            writestring = '{0}{1}{2}'.format(\"<S\",str(i),\">\")\n",
    "            print(writestring)\n",
    "            bytestowrite = writestring.encode()\n",
    "            ser.write(bytestowrite)\n",
    "            ser.write('<I1>'.encode())\n",
    "            ser.write(\"<V2>\".encode())\n",
    "            z = ser.readline().decode(\"utf-8\").split()[1]\n",
    "            y = ser.readline().decode(\"utf-8\").split()[1]\n",
    "            x = ser.readline().decode(\"utf-8\").split()[1]\n",
    "            text_file.write(x+' '+y+'\\n')\n",
    "            time.sleep(0.05)\n",
    "            \n",
    "def repeat(repeats, colour):  \n",
    "    for j in [colour + str(i) for i in range(repeats)]:\n",
    "        collect(j)\n",
    "\n",
    "        \n",
    "#repeat(10, \"yellow\")\n",
    "collect('red2', dummyserial())\n",
    "#timetest()"
   ]
  },
  {
   "cell_type": "code",
   "execution_count": 63,
   "metadata": {},
   "outputs": [
    {
     "name": "stdout",
     "output_type": "stream",
     "text": [
      "dict_keys(['avg_voltages', 'std_voltages', 'avg_current', 'std_current'])\n"
     ]
    },
    {
     "data": {
      "text/plain": [
       "['red0.txt',\n",
       " 'red1.txt',\n",
       " 'red2.txt',\n",
       " 'red3.txt',\n",
       " 'red4.txt',\n",
       " 'red5.txt',\n",
       " 'red6.txt',\n",
       " 'red7.txt',\n",
       " 'red8.txt',\n",
       " 'red9.txt',\n",
       " 'REDaverages']"
      ]
     },
     "execution_count": 63,
     "metadata": {},
     "output_type": "execute_result"
    },
    {
     "data": {
      "image/png": "[encoded data removed]",
      "text/plain": [
       "<Figure size 432x288 with 1 Axes>"
      ]
     },
     "metadata": {
      "needs_background": "light"
     },
     "output_type": "display_data"
    }
   ],
   "source": [
    "\n",
    "\n",
    "\n",
    "def plotting(txt):\n",
    "    x,y=[],[]\n",
    "    with open(txt) as file:\n",
    "        for i in file.readlines()[3:]:\n",
    "            value_y=i.split()\n",
    "            x.append(float(value_y[0]))\n",
    "            y.append(float(value_y[1]))\n",
    "        plot(x,y,linestyle=' ',marker='x')\n",
    "        show()\n",
    "#plotting('red.txt')\n",
    "\n",
    "import os\n",
    "def analysis(colour):\n",
    "    with open(str(colour.upper()) + \"averages\", \"w\") as output:\n",
    "        output.write(\"avg_voltages\"+\" \"+\"std_voltages\"+\" \"+\"avg_current\"+\" \"+\"std_current\\n\")\n",
    "        files = []\n",
    "        for i in os.listdir():\n",
    "            if colour in i:\n",
    "                file_ = open(i)\n",
    "                files.append(file_.readlines()[3:])\n",
    "                file_.close()\n",
    "        for i in range(len(files[0])):\n",
    "            currents = []\n",
    "            voltages = []\n",
    "            for j in range(len(files)):\n",
    "                #print(files[j][i].split()[1])\n",
    "                currents.append(float(files[j][i].split()[1]))\n",
    "                voltages.append(float(files[j][i].split()[0]))\n",
    "            output.write(str(average(voltages))+\" \"+str(std(voltages))+\" \"+str(average(currents)) + \" \" + str(std(currents))+ \"\\n\")\n",
    "\n",
    "def getdat(filename):\n",
    "    with open(filename) as file:\n",
    "        columns = {}\n",
    "        file = file.readlines()\n",
    "        for line in range(len(file)):\n",
    "            if file[line].split()[0] == \"Date\":\n",
    "                file = file[line+1:]\n",
    "                break\n",
    "        headers = file[0].split()\n",
    "        \n",
    "        for i in headers:\n",
    "            columns[i] = []\n",
    "        for i in file[1:]:\n",
    "            b = i.split()\n",
    "            for j in range(len(headers)):\n",
    "                columns[headers[j]].append(float(b[j])) \n",
    "        return columns\n",
    "#reddata = getdat(\"YELLOWaverages\")\n",
    "def complete_lab(colour):\n",
    "    repeat(10, colour)\n",
    "    datafix(colour)\n",
    "    data = getdat(colour.upper() + \"averages\")\n",
    "    errorbar(data[\"avg_voltages\"], data[\"avg_current\"], yerr = array(data[\"std_current\"])*10, xerr = array(data[\"std_voltages\"])*10, linewidth = 0.5)\n",
    "    \n",
    "test_idk = getdat(\"red\\\\REDaverages\")\n",
    "print(test_idk.keys())\n",
    "plot(test_idk[\"avg_voltages\"], test_idk[\"avg_current\"])\n",
    "os.listdir(\"red\")"
   ]
  },
  {
   "cell_type": "markdown",
   "metadata": {},
   "source": [
    "Plot out your data and think about how you could extend the experiment, for example, can you measure multiple LEDs and compare their response, how does the response of an LED compare to a standard resistor?"
   ]
  },
  {
   "cell_type": "code",
   "execution_count": 8,
   "metadata": {},
   "outputs": [
    {
     "name": "stdout",
     "output_type": "stream",
     "text": [
      "['avg_voltages', 'std_voltages', 'avg_current', 'std_current']\n"
     ]
    },
    {
     "data": {
      "text/plain": [
       "[<matplotlib.lines.Line2D at 0x1e7ee378b20>]"
      ]
     },
     "execution_count": 8,
     "metadata": {},
     "output_type": "execute_result"
    },
    {
     "data": {
      "image/png": "[encoded data removed]",
      "text/plain": [
       "<Figure size 432x288 with 1 Axes>"
      ]
     },
     "metadata": {
      "needs_background": "light"
     },
     "output_type": "display_data"
    }
   ],
   "source": [
    "yellow_ = getdat(\"YELLOWaverages\")\n",
    "print(list(yellow_.keys()))\n",
    "plot(yellow_[\"avg_voltages\"], yellow_[\"avg_current\"])"
   ]
  },
  {
   "cell_type": "markdown",
   "metadata": {},
   "source": [
    "When you are finished, you should close the serial connection. Only one program at a time can send information to a particular serial port, so by closing the connection, you free it up so that other programs could communicate with your instrument. Make sure you open the connection again when you want to start working again.<br>\n",
    "You can close the connection using the following command:\n",
    "```python\n",
    "ser.close()```\n"
   ]
  },
  {
   "cell_type": "code",
   "execution_count": 32,
   "metadata": {},
   "outputs": [
    {
     "data": {
      "text/plain": [
       "[<matplotlib.lines.Line2D at 0x1e7eeb1c220>]"
      ]
     },
     "execution_count": 32,
     "metadata": {},
     "output_type": "execute_result"
    },
    {
     "data": {
      "image/png": "[encoded data removed]",
      "text/plain": [
       "<Figure size 432x288 with 1 Axes>"
      ]
     },
     "metadata": {
      "needs_background": "light"
     },
     "output_type": "display_data"
    }
   ],
   "source": [
    "timedat = getdat(\"timetest\")\n",
    "plot(timedat[\"time\"], timedat[\"voltage\"])\n"
   ]
  },
  {
   "cell_type": "code",
   "execution_count": 21,
   "metadata": {},
   "outputs": [
    {
     "name": "stdout",
     "output_type": "stream",
     "text": [
      "2.999\n"
     ]
    }
   ],
   "source": [
    "ser.write(\"<V2>\".encode())\n",
    "print(ser.readline().decode(\"utf-8\").split()[1])"
   ]
  },
  {
   "cell_type": "code",
   "execution_count": 60,
   "metadata": {},
   "outputs": [],
   "source": [
    "import timeit\n",
    "def timetest2():\n",
    "    with open(\"timetest2\", \"w\") as output:\n",
    "        output.write(\"time voltage\\n\")\n",
    "        ser.write(\"<S0.00>\".encode())\n",
    "        ser.readline()\n",
    "        start = timeit.default_timer()\n",
    "        ser.write(\"<S5.00>\".encode())\n",
    "        ser.readline()\n",
    "        t = 0\n",
    "        while t < 0.1:\n",
    "            ser.write(\"<V2>\".encode())\n",
    "            output.write(str(timeit.default_timer()-start)+\" \"+ser.readline().decode(\"utf-8\").split()[1]+ \"\\n\")\n",
    "            t += 0.001\n",
    "            \n",
    "\n",
    "timetest2()        "
   ]
  },
  {
   "cell_type": "code",
   "execution_count": 45,
   "metadata": {},
   "outputs": [
    {
     "ename": "TypeError",
     "evalue": "expected str, bytes or os.PathLike object, not NoneType",
     "output_type": "error",
     "traceback": [
      "\u001b[1;31m---------------------------------------------------------------------------\u001b[0m",
      "\u001b[1;31mTypeError\u001b[0m                                 Traceback (most recent call last)",
      "\u001b[1;32m<ipython-input-45-e0cb3454ed10>\u001b[0m in \u001b[0;36m<module>\u001b[1;34m\u001b[0m\n\u001b[1;32m----> 1\u001b[1;33m \u001b[0mgetdat\u001b[0m\u001b[1;33m(\u001b[0m\u001b[0mtimetest2\u001b[0m\u001b[1;33m(\u001b[0m\u001b[1;33m)\u001b[0m\u001b[1;33m)\u001b[0m\u001b[1;33m\u001b[0m\u001b[1;33m\u001b[0m\u001b[0m\n\u001b[0m",
      "\u001b[1;32m<ipython-input-6-14d71fbd7a18>\u001b[0m in \u001b[0;36mgetdat\u001b[1;34m(filename)\u001b[0m\n\u001b[0;32m     31\u001b[0m \u001b[0mdatafix\u001b[0m\u001b[1;33m(\u001b[0m\u001b[1;34m\"yellow\"\u001b[0m\u001b[1;33m)\u001b[0m\u001b[1;33m\u001b[0m\u001b[1;33m\u001b[0m\u001b[0m\n\u001b[0;32m     32\u001b[0m \u001b[1;32mdef\u001b[0m \u001b[0mgetdat\u001b[0m\u001b[1;33m(\u001b[0m\u001b[0mfilename\u001b[0m\u001b[1;33m)\u001b[0m\u001b[1;33m:\u001b[0m\u001b[1;33m\u001b[0m\u001b[1;33m\u001b[0m\u001b[0m\n\u001b[1;32m---> 33\u001b[1;33m     \u001b[1;32mwith\u001b[0m \u001b[0mopen\u001b[0m\u001b[1;33m(\u001b[0m\u001b[0mfilename\u001b[0m\u001b[1;33m)\u001b[0m \u001b[1;32mas\u001b[0m \u001b[0mfile\u001b[0m\u001b[1;33m:\u001b[0m\u001b[1;33m\u001b[0m\u001b[1;33m\u001b[0m\u001b[0m\n\u001b[0m\u001b[0;32m     34\u001b[0m         \u001b[0mcolumns\u001b[0m \u001b[1;33m=\u001b[0m \u001b[1;33m{\u001b[0m\u001b[1;33m}\u001b[0m\u001b[1;33m\u001b[0m\u001b[1;33m\u001b[0m\u001b[0m\n\u001b[0;32m     35\u001b[0m         \u001b[0mfile\u001b[0m \u001b[1;33m=\u001b[0m \u001b[0mfile\u001b[0m\u001b[1;33m.\u001b[0m\u001b[0mreadlines\u001b[0m\u001b[1;33m(\u001b[0m\u001b[1;33m)\u001b[0m\u001b[1;33m\u001b[0m\u001b[1;33m\u001b[0m\u001b[0m\n",
      "\u001b[1;31mTypeError\u001b[0m: expected str, bytes or os.PathLike object, not NoneType"
     ]
    }
   ],
   "source": [
    "getdat(timetest2())\n"
   ]
  },
  {
   "cell_type": "code",
   "execution_count": 83,
   "metadata": {},
   "outputs": [
    {
     "name": "stdout",
     "output_type": "stream",
     "text": [
      "2021-12-08\n"
     ]
    }
   ],
   "source": [
    "print(str(datetime.datetime.now())[:10])"
   ]
  },
  {
   "cell_type": "code",
   "execution_count": 50,
   "metadata": {},
   "outputs": [],
   "source": [
    "ser =serial.Serial(\"COM4\", baudrate = 345600, timeout = 5)\n",
    "\n"
   ]
  },
  {
   "cell_type": "code",
   "execution_count": 52,
   "metadata": {},
   "outputs": [
    {
     "name": "stdout",
     "output_type": "stream",
     "text": [
      "I received: a\n",
      "\n",
      "I received: b\n",
      "\n",
      "I received: c\n",
      "\n"
     ]
    }
   ],
   "source": [
    "for i in [\"a\", \"b\", \"c\"]:\n",
    "    ser.write(i.encode())\n",
    "    \n",
    "    print(ser.readline().decode(\"utf-8\"))"
   ]
  },
  {
   "cell_type": "code",
   "execution_count": 53,
   "metadata": {},
   "outputs": [],
   "source": [
    "ser.close()"
   ]
  },
  {
   "cell_type": "code",
   "execution_count": 81,
   "metadata": {},
   "outputs": [
    {
     "ename": "TypeError",
     "evalue": "test() missing 1 required positional argument: 'why'",
     "output_type": "error",
     "traceback": [
      "\u001b[1;31m---------------------------------------------------------------------------\u001b[0m",
      "\u001b[1;31mTypeError\u001b[0m                                 Traceback (most recent call last)",
      "\u001b[1;32m<ipython-input-81-2f65c39a00a5>\u001b[0m in \u001b[0;36m<module>\u001b[1;34m\u001b[0m\n\u001b[0;32m      6\u001b[0m \u001b[1;33m\u001b[0m\u001b[0m\n\u001b[0;32m      7\u001b[0m \u001b[0mhle\u001b[0m \u001b[1;33m=\u001b[0m \u001b[0mkms\u001b[0m\u001b[1;33m\u001b[0m\u001b[1;33m\u001b[0m\u001b[0m\n\u001b[1;32m----> 8\u001b[1;33m \u001b[0mhle\u001b[0m\u001b[1;33m.\u001b[0m\u001b[0mtest\u001b[0m\u001b[1;33m(\u001b[0m\u001b[1;36m5\u001b[0m\u001b[1;33m)\u001b[0m\u001b[1;33m\u001b[0m\u001b[1;33m\u001b[0m\u001b[0m\n\u001b[0m\u001b[0;32m      9\u001b[0m \u001b[0mhle\u001b[0m\u001b[1;33m.\u001b[0m\u001b[0mx\u001b[0m\u001b[1;33m\u001b[0m\u001b[1;33m\u001b[0m\u001b[0m\n\u001b[0;32m     10\u001b[0m \u001b[0mhle\u001b[0m\u001b[1;33m.\u001b[0m\u001b[0my\u001b[0m \u001b[1;33m=\u001b[0m \u001b[1;36m4\u001b[0m\u001b[1;33m\u001b[0m\u001b[1;33m\u001b[0m\u001b[0m\n",
      "\u001b[1;31mTypeError\u001b[0m: test() missing 1 required positional argument: 'why'"
     ]
    }
   ],
   "source": [
    "class kms:\n",
    "    def __init__(self):\n",
    "        self.x = 3\n",
    "    def test(self, why):\n",
    "        self.x = why\n",
    "\n",
    "hle = kms()\n",
    "hle.test(5)\n",
    "hle.x\n",
    "hle.y = 4\n",
    "hle.y"
   ]
  },
  {
   "cell_type": "code",
   "execution_count": 22,
   "metadata": {},
   "outputs": [],
   "source": [
    "def headers():\n",
    "    heading = \"V_range: 0-5V, V_Step: 0.05V, Delay: 50 ms\\n\"+\"Date : 2021-12-07\"+ \"\\n\"\n",
    "    for i in [\"blue\", \"green\", \"red\", \"resistor\", \"yellow\"]:\n",
    "        for j in os.listdir(i):\n",
    "            if i in j:\n",
    "                with open(i+\"\\\\\"+j) as fin:\n",
    "                    keep = fin.read()\n",
    "                with open(i+\"\\\\\"+j, \"w\") as fout:\n",
    "                    fout.write(heading + keep)\n",
    "headers()"
   ]
  },
  {
   "cell_type": "code",
   "execution_count": 23,
   "metadata": {},
   "outputs": [],
   "source": [
    "with open(\"test_file.txt\") as file:\n",
    "    keep = file.read()\n",
    "with open(\"test_file.txt\", \"w\") as file:\n",
    "    file.write(\"Headers\\n\" + keep)\n",
    "\n"
   ]
  },
  {
   "cell_type": "code",
   "execution_count": 15,
   "metadata": {},
   "outputs": [],
   "source": [
    "with open(\"test_template\", \"w\") as file:\n",
    "    file.write(\"Headers\")"
   ]
  },
  {
   "cell_type": "code",
   "execution_count": 36,
   "metadata": {},
   "outputs": [
    {
     "name": "stdout",
     "output_type": "stream",
     "text": [
      "a\n"
     ]
    }
   ],
   "source": [
    "def whatever(ex = \"a\"):\n",
    "    print(ex)\n",
    "whatever()"
   ]
  },
  {
   "cell_type": "code",
   "execution_count": 20,
   "metadata": {},
   "outputs": [
    {
     "name": "stdout",
     "output_type": "stream",
     "text": [
      "['0.047 -0.003\\n', '0.105 0.000\\n', '0.143 -0.003\\n', '0.194 0.001\\n', '0.238 0.003\\n', '0.293 -0.001\\n', '0.329 0.002\\n', '0.384 0.002\\n', '0.423 -0.011\\n', '0.470 -0.003\\n', '0.538 0.003\\n', '0.584 0.011\\n', '0.627 -0.006\\n', '0.668 -0.002\\n', '0.730 0.028\\n', '0.760 0.037\\n', '0.844 0.002\\n', '0.885 -0.012\\n', '0.948 -0.008\\n', '0.982 -0.007\\n', '1.014 -0.011\\n', '1.103 0.007\\n', '1.124 0.001\\n', '1.198 -0.005\\n', '1.227 0.006\\n', '1.276 0.000\\n', '1.327 -0.003\\n', '1.385 -0.004\\n', '1.420 0.002\\n', '1.459 0.004\\n', '1.525 0.023\\n', '1.558 0.085\\n', '1.597 0.185\\n', '1.598 0.309\\n', '1.624 0.509\\n', '1.662 0.699\\n', '1.671 0.922\\n', '1.677 1.079\\n', '1.688 1.394\\n', '1.700 1.622\\n', '1.710 1.896\\n', '1.733 2.156\\n', '1.719 2.341\\n', '1.750 2.636\\n', '1.742 2.798\\n', '1.749 3.148\\n', '1.759 3.378\\n', '1.767 3.688\\n', '1.783 3.910\\n', '1.783 4.135\\n', '1.797 4.525\\n', '1.791 4.757\\n', '1.803 5.063\\n', '1.809 5.279\\n', '1.818 5.543\\n', '1.824 5.781\\n', '1.831 6.087\\n', '1.833 6.297\\n', '1.841 6.603\\n', '1.850 6.976\\n', '1.854 7.205\\n', '1.859 7.520\\n', '1.864 7.749\\n', '1.870 8.068\\n', '1.869 8.288\\n', '1.880 8.599\\n', '1.888 8.834\\n', '1.894 9.138\\n', '1.899 9.364\\n', '1.904 9.691\\n', '1.910 10.015\\n', '1.915 10.242\\n', '1.921 10.555\\n', '1.923 10.792\\n', '1.929 11.096\\n', '1.934 11.326\\n', '1.940 11.647\\n', '1.943 11.881\\n', '1.947 12.203\\n', '1.954 12.519\\n', '1.958 12.763\\n', '1.962 13.091\\n', '1.964 13.307\\n', '1.972 13.621\\n', '1.975 13.844\\n', '1.983 14.185\\n', '1.985 14.411\\n', '1.991 14.723\\n', '1.992 14.966\\n', '1.999 15.277\\n', '2.004 15.615\\n', '2.008 15.836\\n', '2.012 16.161\\n', '2.018 16.395\\n', '2.023 16.717\\n', '2.026 16.954\\n', '2.032 17.272\\n', '2.035 17.506\\n', '2.041 17.832\\n', '2.046 18.165\\n']\n"
     ]
    }
   ],
   "source": [
    "with open(\"red0.txt\") as fin:\n",
    "    lines = fin.readlines()[2:]\n",
    "print(lines)\n"
   ]
  },
  {
   "cell_type": "code",
   "execution_count": 23,
   "metadata": {},
   "outputs": [
    {
     "name": "stdout",
     "output_type": "stream",
     "text": [
      "0\n",
      "1\n",
      "2\n",
      "3\n",
      "4\n",
      "5\n",
      "6\n",
      "7\n",
      "8\n",
      "9\n"
     ]
    }
   ],
   "source": [
    "for i in range(10):\n",
    "    print(i)"
   ]
  },
  {
   "cell_type": "code",
   "execution_count": 80,
   "metadata": {},
   "outputs": [
    {
     "data": {
      "text/plain": [
       "['red0.txt',\n",
       " 'red1.txt',\n",
       " 'red2.txt',\n",
       " 'red3.txt',\n",
       " 'red4.txt',\n",
       " 'red5.txt',\n",
       " 'red6.txt',\n",
       " 'red7.txt',\n",
       " 'red8.txt',\n",
       " 'red9.txt',\n",
       " 'REDaverages']"
      ]
     },
     "execution_count": 80,
     "metadata": {},
     "output_type": "execute_result"
    }
   ],
   "source": [
    "os.listdir(\"red\")"
   ]
  },
  {
   "cell_type": "code",
   "execution_count": 78,
   "metadata": {},
   "outputs": [
    {
     "name": "stdout",
     "output_type": "stream",
     "text": [
      "0.5\n"
     ]
    }
   ],
   "source": [
    "print(5/10)"
   ]
  },
  {
   "cell_type": "code",
   "execution_count": 7,
   "metadata": {},
   "outputs": [
    {
     "data": {
      "image/png": "[encoded data removed]",
      "text/plain": [
       "<Figure size 900x600 with 1 Axes>"
      ]
     },
     "metadata": {
      "needs_background": "light"
     },
     "output_type": "display_data"
    }
   ],
   "source": [
    "bar([1,2,3,4], [1.412, 1.567, 1.622, 2.302], tick_label = [\"red\", \"yellow\", \"green\", \"blue\"], color = [\"red\", \"yellow\", \"green\", \"blue\"])\n",
    "ylabel(\"Minimum excitation voltage V\")\n",
    "xlabel(\"LED colour\")\n",
    "rcParams['figure.figsize'] = (6, 4)\n",
    "rcParams['figure.dpi'] = 150"
   ]
  },
  {
   "cell_type": "code",
   "execution_count": null,
   "metadata": {},
   "outputs": [],
   "source": []
  }
 ],
 "metadata": {
  "kernelspec": {
   "display_name": "Python 3",
   "language": "python",
   "name": "python3"
  },
  "language_info": {
   "codemirror_mode": {
    "name": "ipython",
    "version": 3
   },
   "file_extension": ".py",
   "mimetype": "text/x-python",
   "name": "python",
   "nbconvert_exporter": "python",
   "pygments_lexer": "ipython3",
   "version": "3.7.6"
  }
 },
 "nbformat": 4,
 "nbformat_minor": 4
}
